{
 "cells": [
  {
   "cell_type": "code",
   "execution_count": 18,
   "id": "ec6a8633",
   "metadata": {},
   "outputs": [],
   "source": [
    "stack = []\n",
    "code = b\"\\x5F\\x60\"\n",
    "\n",
    "def opPush0():\n",
    "    stack.append(0)\n",
    "\n",
    "def opPush1():\n",
    "    data = code[pc]\n",
    "    stack.append(data)\n",
    "\n",
    "def opPush2():\n",
    "    data = code[pc:(pc+2)]\n",
    "    for i in range(2):\n",
    "        stack.append(data[i])\n",
    "\n",
    "def evm():\n",
    "    pc = 0\n",
    "    while pc < len(code):\n",
    "        op = code[pc]\n",
    "        pc += 1\n",
    "        if(bytes(op) == b\"\\x5F\"):\n",
    "            opPush0()\n"
   ]
  },
  {
   "cell_type": "code",
   "execution_count": 21,
   "id": "2092807d",
   "metadata": {},
   "outputs": [
    {
     "data": {
      "text/plain": [
       "[]"
      ]
     },
     "execution_count": 21,
     "metadata": {},
     "output_type": "execute_result"
    }
   ],
   "source": [
    "evm()\n",
    "stack"
   ]
  },
  {
   "cell_type": "code",
   "execution_count": 13,
   "id": "15463c2a",
   "metadata": {},
   "outputs": [
    {
     "data": {
      "text/plain": [
       "True"
      ]
     },
     "execution_count": 13,
     "metadata": {},
     "output_type": "execute_result"
    }
   ],
   "source": [
    "bytes([code[1]]) == b\"\\x60\""
   ]
  },
  {
   "cell_type": "code",
   "execution_count": 25,
   "id": "be6c4d7d",
   "metadata": {},
   "outputs": [
    {
     "data": {
      "text/plain": [
       "95"
      ]
     },
     "execution_count": 25,
     "metadata": {},
     "output_type": "execute_result"
    }
   ],
   "source": [
    "op"
   ]
  },
  {
   "cell_type": "code",
   "execution_count": 26,
   "id": "20771487",
   "metadata": {},
   "outputs": [
    {
     "data": {
      "text/plain": [
       "False"
      ]
     },
     "execution_count": 26,
     "metadata": {},
     "output_type": "execute_result"
    }
   ],
   "source": [
    "bytes(op) == b\"\\x5F\""
   ]
  },
  {
   "cell_type": "code",
   "execution_count": 27,
   "id": "ba355b4a",
   "metadata": {},
   "outputs": [
    {
     "data": {
      "text/plain": [
       "b'\\x00\\x00\\x00\\x00\\x00\\x00\\x00\\x00\\x00\\x00\\x00\\x00\\x00\\x00\\x00\\x00\\x00\\x00\\x00\\x00\\x00\\x00\\x00\\x00\\x00\\x00\\x00\\x00\\x00\\x00\\x00\\x00\\x00\\x00\\x00\\x00\\x00\\x00\\x00\\x00\\x00\\x00\\x00\\x00\\x00\\x00\\x00\\x00\\x00\\x00\\x00\\x00\\x00\\x00\\x00\\x00\\x00\\x00\\x00\\x00\\x00\\x00\\x00\\x00\\x00\\x00\\x00\\x00\\x00\\x00\\x00\\x00\\x00\\x00\\x00\\x00\\x00\\x00\\x00\\x00\\x00\\x00\\x00\\x00\\x00\\x00\\x00\\x00\\x00\\x00\\x00\\x00\\x00\\x00\\x00'"
      ]
     },
     "execution_count": 27,
     "metadata": {},
     "output_type": "execute_result"
    }
   ],
   "source": [
    "bytes(op)"
   ]
  },
  {
   "cell_type": "code",
   "execution_count": 30,
   "id": "8a17b9e1",
   "metadata": {},
   "outputs": [
    {
     "data": {
      "text/plain": [
       "b'_'"
      ]
     },
     "execution_count": 30,
     "metadata": {},
     "output_type": "execute_result"
    }
   ],
   "source": [
    "bytes([code[0]]) "
   ]
  },
  {
   "cell_type": "code",
   "execution_count": 29,
   "id": "e0febb9d",
   "metadata": {},
   "outputs": [
    {
     "data": {
      "text/plain": [
       "95"
      ]
     },
     "execution_count": 29,
     "metadata": {},
     "output_type": "execute_result"
    }
   ],
   "source": [
    "code[0]"
   ]
  },
  {
   "cell_type": "code",
   "execution_count": 31,
   "id": "e082e3fc",
   "metadata": {},
   "outputs": [
    {
     "data": {
      "text/plain": [
       "b'`'"
      ]
     },
     "execution_count": 31,
     "metadata": {},
     "output_type": "execute_result"
    }
   ],
   "source": [
    "b\"\\x60\""
   ]
  },
  {
   "cell_type": "code",
   "execution_count": 32,
   "id": "366cac36",
   "metadata": {},
   "outputs": [],
   "source": [
    "JUMP = 0x01\n",
    "JUMPI = 0x02\n",
    "JUMPDEST = 0x03\n",
    "\n",
    "class EVM:\n",
    "    def __init__(self, code):\n",
    "        self.code = code\n",
    "        self.pc = 0  # 初始化程序计数器为0\n",
    "        self.stack = []\n",
    "\n",
    "    def next_instruction(self):\n",
    "        op = self.code[self.pc]  # 获取当前指令\n",
    "        self.pc += 1  # 递增程序计数器\n",
    "        return op\n",
    "\n",
    "    def jump(self, target):\n",
    "        # 确保跳转目标是有效的 JUMPDEST\n",
    "        if self.code[target] != JUMPDEST:\n",
    "            raise Exception('Invalid jump destination')\n",
    "        self.pc = target + 1  # 设置程序计数器为目标位置的下一个位置\n",
    "\n",
    "    def run(self):\n",
    "        while self.pc < len(self.code):\n",
    "            op = self.next_instruction()\n",
    "\n",
    "            if op == JUMP:\n",
    "                target = self.stack.pop()\n",
    "                self.jump(target)\n",
    "\n",
    "            elif op == JUMPI:\n",
    "                target = self.stack.pop()\n",
    "                condition = self.stack.pop()\n",
    "                if condition != 0:  # 如果栈顶的元素不为0，进行跳转\n",
    "                    self.jump(target)\n",
    "\n",
    "            elif op == JUMPDEST:\n",
    "                pass  # JUMPDEST 不做任何事情\n"
   ]
  },
  {
   "cell_type": "code",
   "execution_count": 46,
   "id": "251ec77d",
   "metadata": {},
   "outputs": [
    {
     "ename": "IndexError",
     "evalue": "pop from empty list",
     "output_type": "error",
     "traceback": [
      "\u001b[0;31m---------------------------------------------------------------------------\u001b[0m",
      "\u001b[0;31mIndexError\u001b[0m                                Traceback (most recent call last)",
      "\u001b[0;32m/var/folders/xz/sj6gs0f150n67pbx3mg32v3c0000gn/T/ipykernel_92925/2974814034.py\u001b[0m in \u001b[0;36m<module>\u001b[0;34m\u001b[0m\n\u001b[1;32m      1\u001b[0m \u001b[0mcode\u001b[0m \u001b[0;34m=\u001b[0m \u001b[0;34mb\"\\x01\\x03\\x03\"\u001b[0m\u001b[0;34m\u001b[0m\u001b[0;34m\u001b[0m\u001b[0m\n\u001b[1;32m      2\u001b[0m \u001b[0mevm\u001b[0m \u001b[0;34m=\u001b[0m \u001b[0mEVM\u001b[0m\u001b[0;34m(\u001b[0m\u001b[0mcode\u001b[0m\u001b[0;34m)\u001b[0m\u001b[0;34m\u001b[0m\u001b[0;34m\u001b[0m\u001b[0m\n\u001b[0;32m----> 3\u001b[0;31m \u001b[0mevm\u001b[0m\u001b[0;34m.\u001b[0m\u001b[0mrun\u001b[0m\u001b[0;34m(\u001b[0m\u001b[0;34m)\u001b[0m\u001b[0;34m\u001b[0m\u001b[0;34m\u001b[0m\u001b[0m\n\u001b[0m\u001b[1;32m      4\u001b[0m \u001b[0mevm\u001b[0m\u001b[0;34m.\u001b[0m\u001b[0mpc\u001b[0m\u001b[0;34m\u001b[0m\u001b[0;34m\u001b[0m\u001b[0m\n",
      "\u001b[0;32m/var/folders/xz/sj6gs0f150n67pbx3mg32v3c0000gn/T/ipykernel_92925/2671608383.py\u001b[0m in \u001b[0;36mrun\u001b[0;34m(self)\u001b[0m\n\u001b[1;32m     25\u001b[0m \u001b[0;34m\u001b[0m\u001b[0m\n\u001b[1;32m     26\u001b[0m             \u001b[0;32mif\u001b[0m \u001b[0mop\u001b[0m \u001b[0;34m==\u001b[0m \u001b[0mJUMP\u001b[0m\u001b[0;34m:\u001b[0m\u001b[0;34m\u001b[0m\u001b[0;34m\u001b[0m\u001b[0m\n\u001b[0;32m---> 27\u001b[0;31m                 \u001b[0mtarget\u001b[0m \u001b[0;34m=\u001b[0m \u001b[0mself\u001b[0m\u001b[0;34m.\u001b[0m\u001b[0mstack\u001b[0m\u001b[0;34m.\u001b[0m\u001b[0mpop\u001b[0m\u001b[0;34m(\u001b[0m\u001b[0;34m)\u001b[0m\u001b[0;34m\u001b[0m\u001b[0;34m\u001b[0m\u001b[0m\n\u001b[0m\u001b[1;32m     28\u001b[0m                 \u001b[0mself\u001b[0m\u001b[0;34m.\u001b[0m\u001b[0mjump\u001b[0m\u001b[0;34m(\u001b[0m\u001b[0mtarget\u001b[0m\u001b[0;34m)\u001b[0m\u001b[0;34m\u001b[0m\u001b[0;34m\u001b[0m\u001b[0m\n\u001b[1;32m     29\u001b[0m \u001b[0;34m\u001b[0m\u001b[0m\n",
      "\u001b[0;31mIndexError\u001b[0m: pop from empty list"
     ]
    }
   ],
   "source": [
    "code = b\"\\x01\\x03\\x03\"\n",
    "evm = EVM(code)\n",
    "evm.run()\n",
    "evm.pc"
   ]
  },
  {
   "cell_type": "code",
   "execution_count": 47,
   "id": "5e1b1734",
   "metadata": {},
   "outputs": [
    {
     "data": {
      "text/plain": [
       "1"
      ]
     },
     "execution_count": 47,
     "metadata": {},
     "output_type": "execute_result"
    }
   ],
   "source": [
    "evm.pc"
   ]
  },
  {
   "cell_type": "code",
   "execution_count": 48,
   "id": "df255e71",
   "metadata": {},
   "outputs": [
    {
     "ename": "Exception",
     "evalue": "Invalid jump destination",
     "output_type": "error",
     "traceback": [
      "\u001b[0;31m---------------------------------------------------------------------------\u001b[0m",
      "\u001b[0;31mException\u001b[0m                                 Traceback (most recent call last)",
      "\u001b[0;32m/var/folders/xz/sj6gs0f150n67pbx3mg32v3c0000gn/T/ipykernel_92925/2760638697.py\u001b[0m in \u001b[0;36m<module>\u001b[0;34m\u001b[0m\n\u001b[1;32m      2\u001b[0m \u001b[0mevm\u001b[0m \u001b[0;34m=\u001b[0m \u001b[0mEVM\u001b[0m\u001b[0;34m(\u001b[0m\u001b[0mcode\u001b[0m\u001b[0;34m)\u001b[0m\u001b[0;34m\u001b[0m\u001b[0;34m\u001b[0m\u001b[0m\n\u001b[1;32m      3\u001b[0m \u001b[0mevm\u001b[0m\u001b[0;34m.\u001b[0m\u001b[0mstack\u001b[0m\u001b[0;34m.\u001b[0m\u001b[0mappend\u001b[0m\u001b[0;34m(\u001b[0m\u001b[0;36m1\u001b[0m\u001b[0;34m)\u001b[0m  \u001b[0;31m# 压入一些元素\u001b[0m\u001b[0;34m\u001b[0m\u001b[0;34m\u001b[0m\u001b[0m\n\u001b[0;32m----> 4\u001b[0;31m \u001b[0mevm\u001b[0m\u001b[0;34m.\u001b[0m\u001b[0mrun\u001b[0m\u001b[0;34m(\u001b[0m\u001b[0;34m)\u001b[0m\u001b[0;34m\u001b[0m\u001b[0;34m\u001b[0m\u001b[0m\n\u001b[0m\u001b[1;32m      5\u001b[0m \u001b[0mprint\u001b[0m\u001b[0;34m(\u001b[0m\u001b[0mevm\u001b[0m\u001b[0;34m.\u001b[0m\u001b[0mpc\u001b[0m\u001b[0;34m)\u001b[0m\u001b[0;34m\u001b[0m\u001b[0;34m\u001b[0m\u001b[0m\n",
      "\u001b[0;32m/var/folders/xz/sj6gs0f150n67pbx3mg32v3c0000gn/T/ipykernel_92925/2671608383.py\u001b[0m in \u001b[0;36mrun\u001b[0;34m(self)\u001b[0m\n\u001b[1;32m     26\u001b[0m             \u001b[0;32mif\u001b[0m \u001b[0mop\u001b[0m \u001b[0;34m==\u001b[0m \u001b[0mJUMP\u001b[0m\u001b[0;34m:\u001b[0m\u001b[0;34m\u001b[0m\u001b[0;34m\u001b[0m\u001b[0m\n\u001b[1;32m     27\u001b[0m                 \u001b[0mtarget\u001b[0m \u001b[0;34m=\u001b[0m \u001b[0mself\u001b[0m\u001b[0;34m.\u001b[0m\u001b[0mstack\u001b[0m\u001b[0;34m.\u001b[0m\u001b[0mpop\u001b[0m\u001b[0;34m(\u001b[0m\u001b[0;34m)\u001b[0m\u001b[0;34m\u001b[0m\u001b[0;34m\u001b[0m\u001b[0m\n\u001b[0;32m---> 28\u001b[0;31m                 \u001b[0mself\u001b[0m\u001b[0;34m.\u001b[0m\u001b[0mjump\u001b[0m\u001b[0;34m(\u001b[0m\u001b[0mtarget\u001b[0m\u001b[0;34m)\u001b[0m\u001b[0;34m\u001b[0m\u001b[0;34m\u001b[0m\u001b[0m\n\u001b[0m\u001b[1;32m     29\u001b[0m \u001b[0;34m\u001b[0m\u001b[0m\n\u001b[1;32m     30\u001b[0m             \u001b[0;32melif\u001b[0m \u001b[0mop\u001b[0m \u001b[0;34m==\u001b[0m \u001b[0mJUMPI\u001b[0m\u001b[0;34m:\u001b[0m\u001b[0;34m\u001b[0m\u001b[0;34m\u001b[0m\u001b[0m\n",
      "\u001b[0;32m/var/folders/xz/sj6gs0f150n67pbx3mg32v3c0000gn/T/ipykernel_92925/2671608383.py\u001b[0m in \u001b[0;36mjump\u001b[0;34m(self, target)\u001b[0m\n\u001b[1;32m     17\u001b[0m         \u001b[0;31m# 确保跳转目标是有效的 JUMPDEST\u001b[0m\u001b[0;34m\u001b[0m\u001b[0;34m\u001b[0m\u001b[0;34m\u001b[0m\u001b[0m\n\u001b[1;32m     18\u001b[0m         \u001b[0;32mif\u001b[0m \u001b[0mself\u001b[0m\u001b[0;34m.\u001b[0m\u001b[0mcode\u001b[0m\u001b[0;34m[\u001b[0m\u001b[0mtarget\u001b[0m\u001b[0;34m]\u001b[0m \u001b[0;34m!=\u001b[0m \u001b[0mJUMPDEST\u001b[0m\u001b[0;34m:\u001b[0m\u001b[0;34m\u001b[0m\u001b[0;34m\u001b[0m\u001b[0m\n\u001b[0;32m---> 19\u001b[0;31m             \u001b[0;32mraise\u001b[0m \u001b[0mException\u001b[0m\u001b[0;34m(\u001b[0m\u001b[0;34m'Invalid jump destination'\u001b[0m\u001b[0;34m)\u001b[0m\u001b[0;34m\u001b[0m\u001b[0;34m\u001b[0m\u001b[0m\n\u001b[0m\u001b[1;32m     20\u001b[0m         \u001b[0mself\u001b[0m\u001b[0;34m.\u001b[0m\u001b[0mpc\u001b[0m \u001b[0;34m=\u001b[0m \u001b[0mtarget\u001b[0m \u001b[0;34m+\u001b[0m \u001b[0;36m1\u001b[0m  \u001b[0;31m# 设置程序计数器为目标位置的下一个位置\u001b[0m\u001b[0;34m\u001b[0m\u001b[0;34m\u001b[0m\u001b[0m\n\u001b[1;32m     21\u001b[0m \u001b[0;34m\u001b[0m\u001b[0m\n",
      "\u001b[0;31mException\u001b[0m: Invalid jump destination"
     ]
    }
   ],
   "source": [
    "code = b\"\\x01\\x02\\x03\"\n",
    "evm = EVM(code)\n",
    "evm.stack.append(1)  # 压入一些元素\n",
    "evm.run()\n",
    "print(evm.pc)\n"
   ]
  },
  {
   "cell_type": "code",
   "execution_count": 50,
   "id": "42b85496",
   "metadata": {},
   "outputs": [
    {
     "data": {
      "text/plain": [
       "True"
      ]
     },
     "execution_count": 50,
     "metadata": {},
     "output_type": "execute_result"
    }
   ],
   "source": [
    "code[0] == JUMP"
   ]
  },
  {
   "cell_type": "code",
   "execution_count": 51,
   "id": "d6745adf",
   "metadata": {},
   "outputs": [],
   "source": [
    "class EVM:\n",
    "    # 初始化\n",
    "    def __init__(self, code):\n",
    "        self.code = code # 初始化字节码，bytes对象\n",
    "        self.pc = 0  # 初始化程序计数器为0\n",
    "        self.stack = [] # 堆栈初始为空\n",
    "\n",
    "    # 获取当前指令\n",
    "    def next_instruction(self):\n",
    "        op = self.code[self.pc]  # 获取当前指令\n",
    "        self.pc += 1  # 递增\n",
    "        return op\n",
    "\n",
    "    def run(self):\n",
    "        while self.pc < len(self.code):\n",
    "            op = self.next_instruction() # 获取当前指令\n"
   ]
  },
  {
   "cell_type": "code",
   "execution_count": 52,
   "id": "36e74d64",
   "metadata": {},
   "outputs": [],
   "source": [
    "code = b\"\\x01\\x02\\x03\"\n",
    "evm = EVM(code)\n",
    "evm.run()\n"
   ]
  },
  {
   "cell_type": "code",
   "execution_count": 60,
   "id": "bfbb2edb",
   "metadata": {},
   "outputs": [],
   "source": [
    "PUSH1 = 0x60\n",
    "PUSH32 = 0x7F\n",
    "POP = 0x50  # POP的操作码是0x50\n",
    "\n",
    "class EVM:\n",
    "    def __init__(self, code):\n",
    "        self.code = code\n",
    "        self.pc = 0\n",
    "        self.stack = []\n",
    "\n",
    "    def next_instruction(self):\n",
    "        op = self.code[self.pc]\n",
    "        self.pc += 1\n",
    "        return op\n",
    "\n",
    "    def push(self, size):\n",
    "        data = self.code[self.pc:self.pc + size]\n",
    "        value = int.from_bytes(data, 'big')\n",
    "        self.stack.append(value)\n",
    "        self.pc += size\n",
    "\n",
    "    def pop(self):\n",
    "        if len(self.stack) == 0:\n",
    "            raise Exception('Stack underflow')\n",
    "        return self.stack.pop()\n",
    "\n",
    "    def run(self):\n",
    "        while self.pc < len(self.code):\n",
    "            op = self.next_instruction()\n",
    "\n",
    "            if PUSH1 <= op <= PUSH32:\n",
    "                size = op - PUSH1 + 1\n",
    "                self.push(size)\n",
    "            elif op == POP:\n",
    "                self.pop()\n"
   ]
  },
  {
   "cell_type": "code",
   "execution_count": 62,
   "id": "5cd1c6a8",
   "metadata": {},
   "outputs": [
    {
     "data": {
      "text/plain": [
       "[]"
      ]
     },
     "execution_count": 62,
     "metadata": {},
     "output_type": "execute_result"
    }
   ],
   "source": [
    "code = b\"\\x61\\x61\\x01\\x50\"\n",
    "evm = EVM(code)\n",
    "evm.run()\n",
    "evm.stack"
   ]
  },
  {
   "cell_type": "code",
   "execution_count": 67,
   "id": "93e1f981",
   "metadata": {},
   "outputs": [],
   "source": [
    "PUSH0 = 0x5F\n",
    "PUSH1 = 0x60\n",
    "PUSH32 = 0x7F\n",
    "\n",
    "class EVM:\n",
    "    def __init__(self, code):\n",
    "        self.code = code\n",
    "        self.pc = 0\n",
    "        self.stack = []\n",
    "\n",
    "    def next_instruction(self):\n",
    "        op = self.code[self.pc]\n",
    "        self.pc += 1\n",
    "        return op\n",
    "\n",
    "    def push(self, size):\n",
    "        data = self.code[self.pc:self.pc + size]\n",
    "        value = int.from_bytes(data, 'big')\n",
    "        self.stack.append(value)\n",
    "        self.pc += size\n",
    "\n",
    "    def pop(self):\n",
    "        if len(self.stack) == 0:\n",
    "            raise Exception('Stack underflow')\n",
    "        return self.stack.pop()\n",
    "\n",
    "    def run(self):\n",
    "        while self.pc < len(self.code):\n",
    "            op = self.next_instruction()\n",
    "\n",
    "            if PUSH1 <= op <= PUSH32:\n",
    "                size = op - PUSH1 + 1\n",
    "                self.push(size)\n",
    "            elif op == PUSH0:\n",
    "                self.stack.append(0)\n",
    "                self.pc += size"
   ]
  },
  {
   "cell_type": "code",
   "execution_count": 65,
   "id": "58a5419c",
   "metadata": {},
   "outputs": [
    {
     "data": {
      "text/plain": [
       "[1, 1]"
      ]
     },
     "execution_count": 65,
     "metadata": {},
     "output_type": "execute_result"
    }
   ],
   "source": [
    "code = b\"\\x60\\x01\\x60\\x01\"\n",
    "evm = EVM(code)\n",
    "evm.run()\n",
    "evm.stack"
   ]
  },
  {
   "cell_type": "code",
   "execution_count": 68,
   "id": "3d3feb56",
   "metadata": {},
   "outputs": [],
   "source": [
    "PUSH0 = 0x5F\n",
    "PUSH1 = 0x60\n",
    "PUSH32 = 0x7F\n",
    "POP = 0x50\n",
    "\n",
    "class EVM:\n",
    "    def __init__(self, code):\n",
    "        self.code = code\n",
    "        self.pc = 0\n",
    "        self.stack = []\n",
    "\n",
    "    def next_instruction(self):\n",
    "        op = self.code[self.pc]\n",
    "        self.pc += 1\n",
    "        return op\n",
    "\n",
    "    def push(self, size):\n",
    "        data = self.code[self.pc:self.pc + size]\n",
    "        value = int.from_bytes(data, 'big')\n",
    "        self.stack.append(value)\n",
    "        self.pc += size\n",
    "\n",
    "    def pop(self):\n",
    "        if len(self.stack) == 0:\n",
    "            raise Exception('Stack underflow')\n",
    "        return self.stack.pop()\n",
    "\n",
    "    def run(self):\n",
    "        while self.pc < len(self.code):\n",
    "            op = self.next_instruction()\n",
    "\n",
    "            if PUSH1 <= op <= PUSH32:\n",
    "                size = op - PUSH1 + 1\n",
    "                self.push(size)\n",
    "            elif op == PUSH0:\n",
    "                self.stack.append(0)\n",
    "                self.pc += size\n",
    "            elif op == POP:\n",
    "                self.pop()\n"
   ]
  },
  {
   "cell_type": "code",
   "execution_count": 69,
   "id": "8aa4a747",
   "metadata": {},
   "outputs": [],
   "source": [
    "PUSH0 = 0x5F\n",
    "PUSH1 = 0x60\n",
    "PUSH32 = 0x7F\n",
    "POP = 0x50\n",
    "\n",
    "class EVM:\n",
    "    def __init__(self, code):\n",
    "        self.code = code # 初始化字节码，bytes对象\n",
    "        self.pc = 0  # 初始化程序计数器为0\n",
    "        self.stack = [] # 堆栈初始为空\n",
    "\n",
    "    def next_instruction(self):\n",
    "        op = self.code[self.pc]  # 获取当前指令\n",
    "        self.pc += 1  # 递增\n",
    "        return op\n",
    "\n",
    "    def push(self, size):\n",
    "        data = self.code[self.pc:self.pc + size] # 按照size从code中获取数据\n",
    "        value = int.from_bytes(data, 'big') # 将bytes转换为int\n",
    "        self.stack.append(value) # 压入堆栈\n",
    "        self.pc += size # pc增加size单位\n",
    "\n",
    "    def pop(self):\n",
    "        if len(self.stack) == 0:\n",
    "            raise Exception('Stack underflow')\n",
    "        return self.stack.pop() # 弹出堆栈\n",
    "\n",
    "    def run(self):\n",
    "        while self.pc < len(self.code):\n",
    "            op = self.next_instruction()\n",
    "\n",
    "            if PUSH1 <= op <= PUSH32: # 如果为PUSH1-PUSH32\n",
    "                size = op - PUSH1 + 1\n",
    "                self.push(size)\n",
    "            elif op == PUSH0: # 如果为PUSH0\n",
    "                self.stack.append(0)\n",
    "                self.pc += size\n",
    "            elif op == POP: # 如果为POP\n",
    "                self.pop()\n"
   ]
  },
  {
   "cell_type": "code",
   "execution_count": 70,
   "id": "a935c55c",
   "metadata": {},
   "outputs": [
    {
     "data": {
      "text/plain": [
       "[1]"
      ]
     },
     "execution_count": 70,
     "metadata": {},
     "output_type": "execute_result"
    }
   ],
   "source": [
    "code = b\"\\x60\\x01\\x60\\x01\\x50\"\n",
    "evm = EVM(code)\n",
    "evm.run()\n",
    "evm.stack"
   ]
  },
  {
   "cell_type": "code",
   "execution_count": null,
   "id": "e7bd0dbe",
   "metadata": {},
   "outputs": [],
   "source": []
  }
 ],
 "metadata": {
  "kernelspec": {
   "display_name": "Python 3 (ipykernel)",
   "language": "python",
   "name": "python3"
  },
  "language_info": {
   "codemirror_mode": {
    "name": "ipython",
    "version": 3
   },
   "file_extension": ".py",
   "mimetype": "text/x-python",
   "name": "python",
   "nbconvert_exporter": "python",
   "pygments_lexer": "ipython3",
   "version": "3.7.7"
  }
 },
 "nbformat": 4,
 "nbformat_minor": 5
}
